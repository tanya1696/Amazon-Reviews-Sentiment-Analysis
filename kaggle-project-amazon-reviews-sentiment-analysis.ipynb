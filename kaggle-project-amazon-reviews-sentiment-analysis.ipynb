{
 "cells": [
  {
   "cell_type": "code",
   "execution_count": 1,
   "id": "9251956f",
   "metadata": {
    "_cell_guid": "b1076dfc-b9ad-4769-8c92-a6c4dae69d19",
    "_uuid": "8f2839f25d086af736a60e9eeb907d3b93b6e0e5",
    "execution": {
     "iopub.execute_input": "2023-03-20T19:07:59.608372Z",
     "iopub.status.busy": "2023-03-20T19:07:59.607295Z",
     "iopub.status.idle": "2023-03-20T19:07:59.629458Z",
     "shell.execute_reply": "2023-03-20T19:07:59.628304Z"
    },
    "papermill": {
     "duration": 0.035374,
     "end_time": "2023-03-20T19:07:59.632290",
     "exception": false,
     "start_time": "2023-03-20T19:07:59.596916",
     "status": "completed"
    },
    "tags": []
   },
   "outputs": [
    {
     "name": "stdout",
     "output_type": "stream",
     "text": [
      "/kaggle/input/amazon/amazon_reviews.csv\n"
     ]
    }
   ],
   "source": [
    "# This Python 3 environment comes with many helpful analytics libraries installed\n",
    "# It is defined by the kaggle/python Docker image: https://github.com/kaggle/docker-python\n",
    "# For example, here's several helpful packages to load\n",
    "\n",
    "import numpy as np # linear algebra\n",
    "import pandas as pd # data processing, CSV file I/O (e.g. pd.read_csv)\n",
    "\n",
    "# Input data files are available in the read-only \"../input/\" directory\n",
    "# For example, running this (by clicking run or pressing Shift+Enter) will list all files under the input directory\n",
    "\n",
    "import os\n",
    "for dirname, _, filenames in os.walk('/kaggle/input'):\n",
    "    for filename in filenames:\n",
    "        print(os.path.join(dirname, filename))\n",
    "\n",
    "# You can write up to 20GB to the current directory (/kaggle/working/) that gets preserved as output when you create a version using \"Save & Run All\" \n",
    "# You can also write temporary files to /kaggle/temp/, but they won't be saved outside of the current session"
   ]
  },
  {
   "cell_type": "code",
   "execution_count": 2,
   "id": "ac0ce157",
   "metadata": {
    "execution": {
     "iopub.execute_input": "2023-03-20T19:07:59.650570Z",
     "iopub.status.busy": "2023-03-20T19:07:59.650026Z",
     "iopub.status.idle": "2023-03-20T19:08:00.639977Z",
     "shell.execute_reply": "2023-03-20T19:08:00.638902Z"
    },
    "papermill": {
     "duration": 1.000976,
     "end_time": "2023-03-20T19:08:00.642516",
     "exception": false,
     "start_time": "2023-03-20T19:07:59.641540",
     "status": "completed"
    },
    "tags": []
   },
   "outputs": [],
   "source": [
    "from mlxtend.plotting import plot_decision_regions\n",
    "import matplotlib.pyplot as plt\n",
    "%matplotlib inline"
   ]
  },
  {
   "cell_type": "code",
   "execution_count": 3,
   "id": "3bbb47f7",
   "metadata": {
    "execution": {
     "iopub.execute_input": "2023-03-20T19:08:00.659704Z",
     "iopub.status.busy": "2023-03-20T19:08:00.659067Z",
     "iopub.status.idle": "2023-03-20T19:08:00.740154Z",
     "shell.execute_reply": "2023-03-20T19:08:00.738565Z"
    },
    "papermill": {
     "duration": 0.092789,
     "end_time": "2023-03-20T19:08:00.743047",
     "exception": false,
     "start_time": "2023-03-20T19:08:00.650258",
     "status": "completed"
    },
    "tags": []
   },
   "outputs": [
    {
     "data": {
      "text/html": [
       "<div>\n",
       "<style scoped>\n",
       "    .dataframe tbody tr th:only-of-type {\n",
       "        vertical-align: middle;\n",
       "    }\n",
       "\n",
       "    .dataframe tbody tr th {\n",
       "        vertical-align: top;\n",
       "    }\n",
       "\n",
       "    .dataframe thead th {\n",
       "        text-align: right;\n",
       "    }\n",
       "</style>\n",
       "<table border=\"1\" class=\"dataframe\">\n",
       "  <thead>\n",
       "    <tr style=\"text-align: right;\">\n",
       "      <th></th>\n",
       "      <th>Unnamed: 0</th>\n",
       "      <th>reviewerName</th>\n",
       "      <th>overall</th>\n",
       "      <th>reviewText</th>\n",
       "      <th>reviewTime</th>\n",
       "      <th>day_diff</th>\n",
       "      <th>helpful_yes</th>\n",
       "      <th>helpful_no</th>\n",
       "      <th>total_vote</th>\n",
       "      <th>score_pos_neg_diff</th>\n",
       "      <th>score_average_rating</th>\n",
       "      <th>wilson_lower_bound</th>\n",
       "    </tr>\n",
       "  </thead>\n",
       "  <tbody>\n",
       "    <tr>\n",
       "      <th>0</th>\n",
       "      <td>0</td>\n",
       "      <td>NaN</td>\n",
       "      <td>4.0</td>\n",
       "      <td>No issues.</td>\n",
       "      <td>2014-07-23</td>\n",
       "      <td>138</td>\n",
       "      <td>0</td>\n",
       "      <td>0</td>\n",
       "      <td>0</td>\n",
       "      <td>0</td>\n",
       "      <td>0.0</td>\n",
       "      <td>0.0</td>\n",
       "    </tr>\n",
       "    <tr>\n",
       "      <th>1</th>\n",
       "      <td>1</td>\n",
       "      <td>0mie</td>\n",
       "      <td>5.0</td>\n",
       "      <td>Purchased this for my device, it worked as adv...</td>\n",
       "      <td>2013-10-25</td>\n",
       "      <td>409</td>\n",
       "      <td>0</td>\n",
       "      <td>0</td>\n",
       "      <td>0</td>\n",
       "      <td>0</td>\n",
       "      <td>0.0</td>\n",
       "      <td>0.0</td>\n",
       "    </tr>\n",
       "    <tr>\n",
       "      <th>2</th>\n",
       "      <td>2</td>\n",
       "      <td>1K3</td>\n",
       "      <td>4.0</td>\n",
       "      <td>it works as expected. I should have sprung for...</td>\n",
       "      <td>2012-12-23</td>\n",
       "      <td>715</td>\n",
       "      <td>0</td>\n",
       "      <td>0</td>\n",
       "      <td>0</td>\n",
       "      <td>0</td>\n",
       "      <td>0.0</td>\n",
       "      <td>0.0</td>\n",
       "    </tr>\n",
       "    <tr>\n",
       "      <th>3</th>\n",
       "      <td>3</td>\n",
       "      <td>1m2</td>\n",
       "      <td>5.0</td>\n",
       "      <td>This think has worked out great.Had a diff. br...</td>\n",
       "      <td>2013-11-21</td>\n",
       "      <td>382</td>\n",
       "      <td>0</td>\n",
       "      <td>0</td>\n",
       "      <td>0</td>\n",
       "      <td>0</td>\n",
       "      <td>0.0</td>\n",
       "      <td>0.0</td>\n",
       "    </tr>\n",
       "    <tr>\n",
       "      <th>4</th>\n",
       "      <td>4</td>\n",
       "      <td>2&amp;amp;1/2Men</td>\n",
       "      <td>5.0</td>\n",
       "      <td>Bought it with Retail Packaging, arrived legit...</td>\n",
       "      <td>2013-07-13</td>\n",
       "      <td>513</td>\n",
       "      <td>0</td>\n",
       "      <td>0</td>\n",
       "      <td>0</td>\n",
       "      <td>0</td>\n",
       "      <td>0.0</td>\n",
       "      <td>0.0</td>\n",
       "    </tr>\n",
       "    <tr>\n",
       "      <th>...</th>\n",
       "      <td>...</td>\n",
       "      <td>...</td>\n",
       "      <td>...</td>\n",
       "      <td>...</td>\n",
       "      <td>...</td>\n",
       "      <td>...</td>\n",
       "      <td>...</td>\n",
       "      <td>...</td>\n",
       "      <td>...</td>\n",
       "      <td>...</td>\n",
       "      <td>...</td>\n",
       "      <td>...</td>\n",
       "    </tr>\n",
       "    <tr>\n",
       "      <th>4910</th>\n",
       "      <td>4910</td>\n",
       "      <td>ZM \"J\"</td>\n",
       "      <td>1.0</td>\n",
       "      <td>I bought this Sandisk 16GB Class 10 to use wit...</td>\n",
       "      <td>2013-07-23</td>\n",
       "      <td>503</td>\n",
       "      <td>0</td>\n",
       "      <td>0</td>\n",
       "      <td>0</td>\n",
       "      <td>0</td>\n",
       "      <td>0.0</td>\n",
       "      <td>0.0</td>\n",
       "    </tr>\n",
       "    <tr>\n",
       "      <th>4911</th>\n",
       "      <td>4911</td>\n",
       "      <td>Zo</td>\n",
       "      <td>5.0</td>\n",
       "      <td>Used this for extending the capabilities of my...</td>\n",
       "      <td>2013-08-22</td>\n",
       "      <td>473</td>\n",
       "      <td>0</td>\n",
       "      <td>0</td>\n",
       "      <td>0</td>\n",
       "      <td>0</td>\n",
       "      <td>0.0</td>\n",
       "      <td>0.0</td>\n",
       "    </tr>\n",
       "    <tr>\n",
       "      <th>4912</th>\n",
       "      <td>4912</td>\n",
       "      <td>Z S Liske</td>\n",
       "      <td>5.0</td>\n",
       "      <td>Great card that is very fast and reliable. It ...</td>\n",
       "      <td>2014-03-31</td>\n",
       "      <td>252</td>\n",
       "      <td>0</td>\n",
       "      <td>0</td>\n",
       "      <td>0</td>\n",
       "      <td>0</td>\n",
       "      <td>0.0</td>\n",
       "      <td>0.0</td>\n",
       "    </tr>\n",
       "    <tr>\n",
       "      <th>4913</th>\n",
       "      <td>4913</td>\n",
       "      <td>Z Taylor</td>\n",
       "      <td>5.0</td>\n",
       "      <td>Good amount of space for the stuff I want to d...</td>\n",
       "      <td>2013-09-16</td>\n",
       "      <td>448</td>\n",
       "      <td>0</td>\n",
       "      <td>0</td>\n",
       "      <td>0</td>\n",
       "      <td>0</td>\n",
       "      <td>0.0</td>\n",
       "      <td>0.0</td>\n",
       "    </tr>\n",
       "    <tr>\n",
       "      <th>4914</th>\n",
       "      <td>4914</td>\n",
       "      <td>Zza</td>\n",
       "      <td>5.0</td>\n",
       "      <td>I've heard bad things about this 64gb Micro SD...</td>\n",
       "      <td>2014-02-01</td>\n",
       "      <td>310</td>\n",
       "      <td>0</td>\n",
       "      <td>0</td>\n",
       "      <td>0</td>\n",
       "      <td>0</td>\n",
       "      <td>0.0</td>\n",
       "      <td>0.0</td>\n",
       "    </tr>\n",
       "  </tbody>\n",
       "</table>\n",
       "<p>4915 rows × 12 columns</p>\n",
       "</div>"
      ],
      "text/plain": [
       "      Unnamed: 0  reviewerName  overall  \\\n",
       "0              0           NaN      4.0   \n",
       "1              1          0mie      5.0   \n",
       "2              2           1K3      4.0   \n",
       "3              3           1m2      5.0   \n",
       "4              4  2&amp;1/2Men      5.0   \n",
       "...          ...           ...      ...   \n",
       "4910        4910        ZM \"J\"      1.0   \n",
       "4911        4911            Zo      5.0   \n",
       "4912        4912     Z S Liske      5.0   \n",
       "4913        4913      Z Taylor      5.0   \n",
       "4914        4914           Zza      5.0   \n",
       "\n",
       "                                             reviewText  reviewTime  day_diff  \\\n",
       "0                                            No issues.  2014-07-23       138   \n",
       "1     Purchased this for my device, it worked as adv...  2013-10-25       409   \n",
       "2     it works as expected. I should have sprung for...  2012-12-23       715   \n",
       "3     This think has worked out great.Had a diff. br...  2013-11-21       382   \n",
       "4     Bought it with Retail Packaging, arrived legit...  2013-07-13       513   \n",
       "...                                                 ...         ...       ...   \n",
       "4910  I bought this Sandisk 16GB Class 10 to use wit...  2013-07-23       503   \n",
       "4911  Used this for extending the capabilities of my...  2013-08-22       473   \n",
       "4912  Great card that is very fast and reliable. It ...  2014-03-31       252   \n",
       "4913  Good amount of space for the stuff I want to d...  2013-09-16       448   \n",
       "4914  I've heard bad things about this 64gb Micro SD...  2014-02-01       310   \n",
       "\n",
       "      helpful_yes  helpful_no  total_vote  score_pos_neg_diff  \\\n",
       "0               0           0           0                   0   \n",
       "1               0           0           0                   0   \n",
       "2               0           0           0                   0   \n",
       "3               0           0           0                   0   \n",
       "4               0           0           0                   0   \n",
       "...           ...         ...         ...                 ...   \n",
       "4910            0           0           0                   0   \n",
       "4911            0           0           0                   0   \n",
       "4912            0           0           0                   0   \n",
       "4913            0           0           0                   0   \n",
       "4914            0           0           0                   0   \n",
       "\n",
       "      score_average_rating  wilson_lower_bound  \n",
       "0                      0.0                 0.0  \n",
       "1                      0.0                 0.0  \n",
       "2                      0.0                 0.0  \n",
       "3                      0.0                 0.0  \n",
       "4                      0.0                 0.0  \n",
       "...                    ...                 ...  \n",
       "4910                   0.0                 0.0  \n",
       "4911                   0.0                 0.0  \n",
       "4912                   0.0                 0.0  \n",
       "4913                   0.0                 0.0  \n",
       "4914                   0.0                 0.0  \n",
       "\n",
       "[4915 rows x 12 columns]"
      ]
     },
     "execution_count": 3,
     "metadata": {},
     "output_type": "execute_result"
    }
   ],
   "source": [
    "data = pd.read_csv(\"/kaggle/input/amazon/amazon_reviews.csv\")\n",
    "data"
   ]
  },
  {
   "cell_type": "code",
   "execution_count": 4,
   "id": "6f2a2346",
   "metadata": {
    "execution": {
     "iopub.execute_input": "2023-03-20T19:08:00.760629Z",
     "iopub.status.busy": "2023-03-20T19:08:00.760302Z",
     "iopub.status.idle": "2023-03-20T19:08:00.799558Z",
     "shell.execute_reply": "2023-03-20T19:08:00.798576Z"
    },
    "papermill": {
     "duration": 0.050097,
     "end_time": "2023-03-20T19:08:00.801468",
     "exception": false,
     "start_time": "2023-03-20T19:08:00.751371",
     "status": "completed"
    },
    "tags": []
   },
   "outputs": [
    {
     "data": {
      "text/html": [
       "<div>\n",
       "<style scoped>\n",
       "    .dataframe tbody tr th:only-of-type {\n",
       "        vertical-align: middle;\n",
       "    }\n",
       "\n",
       "    .dataframe tbody tr th {\n",
       "        vertical-align: top;\n",
       "    }\n",
       "\n",
       "    .dataframe thead th {\n",
       "        text-align: right;\n",
       "    }\n",
       "</style>\n",
       "<table border=\"1\" class=\"dataframe\">\n",
       "  <thead>\n",
       "    <tr style=\"text-align: right;\">\n",
       "      <th></th>\n",
       "      <th>Unnamed: 0</th>\n",
       "      <th>overall</th>\n",
       "      <th>day_diff</th>\n",
       "      <th>helpful_yes</th>\n",
       "      <th>helpful_no</th>\n",
       "      <th>total_vote</th>\n",
       "      <th>score_pos_neg_diff</th>\n",
       "      <th>score_average_rating</th>\n",
       "      <th>wilson_lower_bound</th>\n",
       "    </tr>\n",
       "  </thead>\n",
       "  <tbody>\n",
       "    <tr>\n",
       "      <th>count</th>\n",
       "      <td>4915.000000</td>\n",
       "      <td>4915.000000</td>\n",
       "      <td>4915.000000</td>\n",
       "      <td>4915.000000</td>\n",
       "      <td>4915.000000</td>\n",
       "      <td>4915.000000</td>\n",
       "      <td>4915.000000</td>\n",
       "      <td>4915.000000</td>\n",
       "      <td>4915.000000</td>\n",
       "    </tr>\n",
       "    <tr>\n",
       "      <th>mean</th>\n",
       "      <td>2457.000000</td>\n",
       "      <td>4.587589</td>\n",
       "      <td>437.367040</td>\n",
       "      <td>1.311089</td>\n",
       "      <td>0.210376</td>\n",
       "      <td>1.521465</td>\n",
       "      <td>1.100712</td>\n",
       "      <td>0.075468</td>\n",
       "      <td>0.020053</td>\n",
       "    </tr>\n",
       "    <tr>\n",
       "      <th>std</th>\n",
       "      <td>1418.982617</td>\n",
       "      <td>0.996845</td>\n",
       "      <td>209.439871</td>\n",
       "      <td>41.619161</td>\n",
       "      <td>4.023296</td>\n",
       "      <td>44.123095</td>\n",
       "      <td>39.367949</td>\n",
       "      <td>0.256062</td>\n",
       "      <td>0.077187</td>\n",
       "    </tr>\n",
       "    <tr>\n",
       "      <th>min</th>\n",
       "      <td>0.000000</td>\n",
       "      <td>1.000000</td>\n",
       "      <td>1.000000</td>\n",
       "      <td>0.000000</td>\n",
       "      <td>0.000000</td>\n",
       "      <td>0.000000</td>\n",
       "      <td>-130.000000</td>\n",
       "      <td>0.000000</td>\n",
       "      <td>0.000000</td>\n",
       "    </tr>\n",
       "    <tr>\n",
       "      <th>25%</th>\n",
       "      <td>1228.500000</td>\n",
       "      <td>5.000000</td>\n",
       "      <td>281.000000</td>\n",
       "      <td>0.000000</td>\n",
       "      <td>0.000000</td>\n",
       "      <td>0.000000</td>\n",
       "      <td>0.000000</td>\n",
       "      <td>0.000000</td>\n",
       "      <td>0.000000</td>\n",
       "    </tr>\n",
       "    <tr>\n",
       "      <th>50%</th>\n",
       "      <td>2457.000000</td>\n",
       "      <td>5.000000</td>\n",
       "      <td>431.000000</td>\n",
       "      <td>0.000000</td>\n",
       "      <td>0.000000</td>\n",
       "      <td>0.000000</td>\n",
       "      <td>0.000000</td>\n",
       "      <td>0.000000</td>\n",
       "      <td>0.000000</td>\n",
       "    </tr>\n",
       "    <tr>\n",
       "      <th>75%</th>\n",
       "      <td>3685.500000</td>\n",
       "      <td>5.000000</td>\n",
       "      <td>601.000000</td>\n",
       "      <td>0.000000</td>\n",
       "      <td>0.000000</td>\n",
       "      <td>0.000000</td>\n",
       "      <td>0.000000</td>\n",
       "      <td>0.000000</td>\n",
       "      <td>0.000000</td>\n",
       "    </tr>\n",
       "    <tr>\n",
       "      <th>max</th>\n",
       "      <td>4914.000000</td>\n",
       "      <td>5.000000</td>\n",
       "      <td>1064.000000</td>\n",
       "      <td>1952.000000</td>\n",
       "      <td>183.000000</td>\n",
       "      <td>2020.000000</td>\n",
       "      <td>1884.000000</td>\n",
       "      <td>1.000000</td>\n",
       "      <td>0.957544</td>\n",
       "    </tr>\n",
       "  </tbody>\n",
       "</table>\n",
       "</div>"
      ],
      "text/plain": [
       "        Unnamed: 0      overall     day_diff  helpful_yes   helpful_no  \\\n",
       "count  4915.000000  4915.000000  4915.000000  4915.000000  4915.000000   \n",
       "mean   2457.000000     4.587589   437.367040     1.311089     0.210376   \n",
       "std    1418.982617     0.996845   209.439871    41.619161     4.023296   \n",
       "min       0.000000     1.000000     1.000000     0.000000     0.000000   \n",
       "25%    1228.500000     5.000000   281.000000     0.000000     0.000000   \n",
       "50%    2457.000000     5.000000   431.000000     0.000000     0.000000   \n",
       "75%    3685.500000     5.000000   601.000000     0.000000     0.000000   \n",
       "max    4914.000000     5.000000  1064.000000  1952.000000   183.000000   \n",
       "\n",
       "        total_vote  score_pos_neg_diff  score_average_rating  \\\n",
       "count  4915.000000         4915.000000           4915.000000   \n",
       "mean      1.521465            1.100712              0.075468   \n",
       "std      44.123095           39.367949              0.256062   \n",
       "min       0.000000         -130.000000              0.000000   \n",
       "25%       0.000000            0.000000              0.000000   \n",
       "50%       0.000000            0.000000              0.000000   \n",
       "75%       0.000000            0.000000              0.000000   \n",
       "max    2020.000000         1884.000000              1.000000   \n",
       "\n",
       "       wilson_lower_bound  \n",
       "count         4915.000000  \n",
       "mean             0.020053  \n",
       "std              0.077187  \n",
       "min              0.000000  \n",
       "25%              0.000000  \n",
       "50%              0.000000  \n",
       "75%              0.000000  \n",
       "max              0.957544  "
      ]
     },
     "execution_count": 4,
     "metadata": {},
     "output_type": "execute_result"
    }
   ],
   "source": [
    "data.describe()"
   ]
  },
  {
   "cell_type": "code",
   "execution_count": 5,
   "id": "d2c6f5f8",
   "metadata": {
    "execution": {
     "iopub.execute_input": "2023-03-20T19:08:00.819619Z",
     "iopub.status.busy": "2023-03-20T19:08:00.819310Z",
     "iopub.status.idle": "2023-03-20T19:08:00.825002Z",
     "shell.execute_reply": "2023-03-20T19:08:00.823922Z"
    },
    "papermill": {
     "duration": 0.017295,
     "end_time": "2023-03-20T19:08:00.826967",
     "exception": false,
     "start_time": "2023-03-20T19:08:00.809672",
     "status": "completed"
    },
    "tags": []
   },
   "outputs": [
    {
     "data": {
      "text/plain": [
       "(4915, 12)"
      ]
     },
     "execution_count": 5,
     "metadata": {},
     "output_type": "execute_result"
    }
   ],
   "source": [
    "data.shape"
   ]
  },
  {
   "cell_type": "code",
   "execution_count": 6,
   "id": "6403007f",
   "metadata": {
    "execution": {
     "iopub.execute_input": "2023-03-20T19:08:00.845174Z",
     "iopub.status.busy": "2023-03-20T19:08:00.844875Z",
     "iopub.status.idle": "2023-03-20T19:08:00.851701Z",
     "shell.execute_reply": "2023-03-20T19:08:00.850869Z"
    },
    "papermill": {
     "duration": 0.018155,
     "end_time": "2023-03-20T19:08:00.853803",
     "exception": false,
     "start_time": "2023-03-20T19:08:00.835648",
     "status": "completed"
    },
    "tags": []
   },
   "outputs": [
    {
     "data": {
      "text/plain": [
       "Unnamed: 0                int64\n",
       "reviewerName             object\n",
       "overall                 float64\n",
       "reviewText               object\n",
       "reviewTime               object\n",
       "day_diff                  int64\n",
       "helpful_yes               int64\n",
       "helpful_no                int64\n",
       "total_vote                int64\n",
       "score_pos_neg_diff        int64\n",
       "score_average_rating    float64\n",
       "wilson_lower_bound      float64\n",
       "dtype: object"
      ]
     },
     "execution_count": 6,
     "metadata": {},
     "output_type": "execute_result"
    }
   ],
   "source": [
    "data.dtypes"
   ]
  },
  {
   "cell_type": "code",
   "execution_count": 7,
   "id": "fba40620",
   "metadata": {
    "execution": {
     "iopub.execute_input": "2023-03-20T19:08:00.872145Z",
     "iopub.status.busy": "2023-03-20T19:08:00.871842Z",
     "iopub.status.idle": "2023-03-20T19:08:01.098980Z",
     "shell.execute_reply": "2023-03-20T19:08:01.097948Z"
    },
    "papermill": {
     "duration": 0.238803,
     "end_time": "2023-03-20T19:08:01.101206",
     "exception": false,
     "start_time": "2023-03-20T19:08:00.862403",
     "status": "completed"
    },
    "tags": []
   },
   "outputs": [
    {
     "data": {
      "text/plain": [
       "<AxesSubplot:>"
      ]
     },
     "execution_count": 7,
     "metadata": {},
     "output_type": "execute_result"
    },
    {
     "data": {
      "image/png": "[encoded data removed]",
      "text/plain": [
       "<Figure size 432x288 with 1 Axes>"
      ]
     },
     "metadata": {
      "needs_background": "light"
     },
     "output_type": "display_data"
    }
   ],
   "source": [
    "data.overall.value_counts().plot(kind=\"bar\")"
   ]
  },
  {
   "cell_type": "code",
   "execution_count": 8,
   "id": "f1bc24e0",
   "metadata": {
    "execution": {
     "iopub.execute_input": "2023-03-20T19:08:01.121721Z",
     "iopub.status.busy": "2023-03-20T19:08:01.121367Z",
     "iopub.status.idle": "2023-03-20T19:08:01.130203Z",
     "shell.execute_reply": "2023-03-20T19:08:01.129341Z"
    },
    "papermill": {
     "duration": 0.020864,
     "end_time": "2023-03-20T19:08:01.132281",
     "exception": false,
     "start_time": "2023-03-20T19:08:01.111417",
     "status": "completed"
    },
    "tags": []
   },
   "outputs": [],
   "source": [
    "#Creating three categories for reviews : Positive(4-5), Negative(1-2), Neutral(3)\n",
    "data[\"review_sentiment\"] = pd.cut(\n",
    "    x=data[\"overall\"],\n",
    "    bins=[0, 2, 3,np.inf],\n",
    "    labels=[\"Negative\", \"Neutral\", \"Positive\"],\n",
    ")"
   ]
  },
  {
   "cell_type": "code",
   "execution_count": 9,
   "id": "afd6b3e2",
   "metadata": {
    "execution": {
     "iopub.execute_input": "2023-03-20T19:08:01.150270Z",
     "iopub.status.busy": "2023-03-20T19:08:01.149963Z",
     "iopub.status.idle": "2023-03-20T19:08:01.313843Z",
     "shell.execute_reply": "2023-03-20T19:08:01.312675Z"
    },
    "papermill": {
     "duration": 0.175384,
     "end_time": "2023-03-20T19:08:01.316326",
     "exception": false,
     "start_time": "2023-03-20T19:08:01.140942",
     "status": "completed"
    },
    "tags": []
   },
   "outputs": [
    {
     "data": {
      "text/plain": [
       "<AxesSubplot:>"
      ]
     },
     "execution_count": 9,
     "metadata": {},
     "output_type": "execute_result"
    },
    {
     "data": {
      "image/png": "[encoded data removed]",
      "text/plain": [
       "<Figure size 432x288 with 1 Axes>"
      ]
     },
     "metadata": {
      "needs_background": "light"
     },
     "output_type": "display_data"
    }
   ],
   "source": [
    "data.review_sentiment.value_counts().plot(kind=\"bar\")"
   ]
  },
  {
   "cell_type": "code",
   "execution_count": 10,
   "id": "533fd0f1",
   "metadata": {
    "execution": {
     "iopub.execute_input": "2023-03-20T19:08:01.336589Z",
     "iopub.status.busy": "2023-03-20T19:08:01.336206Z",
     "iopub.status.idle": "2023-03-20T19:08:01.342474Z",
     "shell.execute_reply": "2023-03-20T19:08:01.341660Z"
    },
    "papermill": {
     "duration": 0.018688,
     "end_time": "2023-03-20T19:08:01.344478",
     "exception": false,
     "start_time": "2023-03-20T19:08:01.325790",
     "status": "completed"
    },
    "tags": []
   },
   "outputs": [
    {
     "data": {
      "text/plain": [
       "(4915, 13)"
      ]
     },
     "execution_count": 10,
     "metadata": {},
     "output_type": "execute_result"
    }
   ],
   "source": [
    "data.shape"
   ]
  },
  {
   "cell_type": "code",
   "execution_count": 11,
   "id": "54870bca",
   "metadata": {
    "execution": {
     "iopub.execute_input": "2023-03-20T19:08:01.364094Z",
     "iopub.status.busy": "2023-03-20T19:08:01.363288Z",
     "iopub.status.idle": "2023-03-20T19:08:01.371339Z",
     "shell.execute_reply": "2023-03-20T19:08:01.370700Z"
    },
    "papermill": {
     "duration": 0.019715,
     "end_time": "2023-03-20T19:08:01.373216",
     "exception": false,
     "start_time": "2023-03-20T19:08:01.353501",
     "status": "completed"
    },
    "tags": []
   },
   "outputs": [
    {
     "data": {
      "text/plain": [
       "(4773, 13)"
      ]
     },
     "execution_count": 11,
     "metadata": {},
     "output_type": "execute_result"
    }
   ],
   "source": [
    "#Dropping the rows with neutral reviews in order to have a binary classification problem\n",
    "data.drop(data.loc[data['overall']==3].index, inplace=True)\n",
    "data.shape\n",
    "#142 rows got deleted"
   ]
  },
  {
   "cell_type": "code",
   "execution_count": 12,
   "id": "cb388814",
   "metadata": {
    "execution": {
     "iopub.execute_input": "2023-03-20T19:08:01.392899Z",
     "iopub.status.busy": "2023-03-20T19:08:01.392306Z",
     "iopub.status.idle": "2023-03-20T19:08:01.400779Z",
     "shell.execute_reply": "2023-03-20T19:08:01.399867Z"
    },
    "papermill": {
     "duration": 0.020187,
     "end_time": "2023-03-20T19:08:01.402633",
     "exception": false,
     "start_time": "2023-03-20T19:08:01.382446",
     "status": "completed"
    },
    "tags": []
   },
   "outputs": [
    {
     "data": {
      "text/plain": [
       "Unnamed: 0              0\n",
       "reviewerName            1\n",
       "overall                 0\n",
       "reviewText              1\n",
       "reviewTime              0\n",
       "day_diff                0\n",
       "helpful_yes             0\n",
       "helpful_no              0\n",
       "total_vote              0\n",
       "score_pos_neg_diff      0\n",
       "score_average_rating    0\n",
       "wilson_lower_bound      0\n",
       "review_sentiment        0\n",
       "dtype: int64"
      ]
     },
     "execution_count": 12,
     "metadata": {},
     "output_type": "execute_result"
    }
   ],
   "source": [
    "data.isna().sum()"
   ]
  },
  {
   "cell_type": "code",
   "execution_count": 13,
   "id": "a9cee804",
   "metadata": {
    "execution": {
     "iopub.execute_input": "2023-03-20T19:08:01.422340Z",
     "iopub.status.busy": "2023-03-20T19:08:01.421557Z",
     "iopub.status.idle": "2023-03-20T19:08:01.428331Z",
     "shell.execute_reply": "2023-03-20T19:08:01.427717Z"
    },
    "papermill": {
     "duration": 0.01855,
     "end_time": "2023-03-20T19:08:01.430108",
     "exception": false,
     "start_time": "2023-03-20T19:08:01.411558",
     "status": "completed"
    },
    "tags": []
   },
   "outputs": [],
   "source": [
    "# Dropping rows with null values (2 rows are deleted)\n",
    "data = data.dropna(axis=0)"
   ]
  },
  {
   "cell_type": "code",
   "execution_count": 14,
   "id": "06a89b82",
   "metadata": {
    "execution": {
     "iopub.execute_input": "2023-03-20T19:08:01.449852Z",
     "iopub.status.busy": "2023-03-20T19:08:01.449572Z",
     "iopub.status.idle": "2023-03-20T19:08:01.458217Z",
     "shell.execute_reply": "2023-03-20T19:08:01.457465Z"
    },
    "papermill": {
     "duration": 0.020735,
     "end_time": "2023-03-20T19:08:01.460114",
     "exception": false,
     "start_time": "2023-03-20T19:08:01.439379",
     "status": "completed"
    },
    "tags": []
   },
   "outputs": [
    {
     "data": {
      "text/plain": [
       "Unnamed: 0              0\n",
       "reviewerName            0\n",
       "overall                 0\n",
       "reviewText              0\n",
       "reviewTime              0\n",
       "day_diff                0\n",
       "helpful_yes             0\n",
       "helpful_no              0\n",
       "total_vote              0\n",
       "score_pos_neg_diff      0\n",
       "score_average_rating    0\n",
       "wilson_lower_bound      0\n",
       "review_sentiment        0\n",
       "dtype: int64"
      ]
     },
     "execution_count": 14,
     "metadata": {},
     "output_type": "execute_result"
    }
   ],
   "source": [
    "data.isna().sum()"
   ]
  },
  {
   "cell_type": "code",
   "execution_count": 15,
   "id": "10e6a76d",
   "metadata": {
    "execution": {
     "iopub.execute_input": "2023-03-20T19:08:01.480424Z",
     "iopub.status.busy": "2023-03-20T19:08:01.479884Z",
     "iopub.status.idle": "2023-03-20T19:08:02.074412Z",
     "shell.execute_reply": "2023-03-20T19:08:02.073390Z"
    },
    "papermill": {
     "duration": 0.607485,
     "end_time": "2023-03-20T19:08:02.076623",
     "exception": false,
     "start_time": "2023-03-20T19:08:01.469138",
     "status": "completed"
    },
    "tags": []
   },
   "outputs": [
    {
     "data": {
      "text/plain": [
       "<4771x8068 sparse matrix of type '<class 'numpy.int64'>'\n",
       "\twith 102231 stored elements in Compressed Sparse Row format>"
      ]
     },
     "execution_count": 15,
     "metadata": {},
     "output_type": "execute_result"
    }
   ],
   "source": [
    "# Bag of words model for analysis\n",
    "\n",
    "from sklearn.feature_extraction.text import CountVectorizer\n",
    "from nltk.tokenize import RegexpTokenizer\n",
    "token = RegexpTokenizer(r\"[a-zA-Z0-9]+\")\n",
    "cv = CountVectorizer(stop_words=\"english\",ngram_range=(1,1),tokenizer=token.tokenize)\n",
    "text_counts = cv.fit_transform(data['reviewText'])\n",
    "text_counts"
   ]
  },
  {
   "cell_type": "code",
   "execution_count": 16,
   "id": "67b229d5",
   "metadata": {
    "execution": {
     "iopub.execute_input": "2023-03-20T19:08:02.098405Z",
     "iopub.status.busy": "2023-03-20T19:08:02.097736Z",
     "iopub.status.idle": "2023-03-20T19:08:02.261617Z",
     "shell.execute_reply": "2023-03-20T19:08:02.260286Z"
    },
    "papermill": {
     "duration": 0.177802,
     "end_time": "2023-03-20T19:08:02.264438",
     "exception": false,
     "start_time": "2023-03-20T19:08:02.086636",
     "status": "completed"
    },
    "tags": []
   },
   "outputs": [
    {
     "name": "stderr",
     "output_type": "stream",
     "text": [
      "/opt/conda/lib/python3.7/site-packages/sklearn/utils/deprecation.py:87: FutureWarning: Function get_feature_names is deprecated; get_feature_names is deprecated in 1.0 and will be removed in 1.2. Please use get_feature_names_out instead.\n",
      "  warnings.warn(msg, category=FutureWarning)\n"
     ]
    },
    {
     "data": {
      "text/html": [
       "<div>\n",
       "<style scoped>\n",
       "    .dataframe tbody tr th:only-of-type {\n",
       "        vertical-align: middle;\n",
       "    }\n",
       "\n",
       "    .dataframe tbody tr th {\n",
       "        vertical-align: top;\n",
       "    }\n",
       "\n",
       "    .dataframe thead th {\n",
       "        text-align: right;\n",
       "    }\n",
       "</style>\n",
       "<table border=\"1\" class=\"dataframe\">\n",
       "  <thead>\n",
       "    <tr style=\"text-align: right;\">\n",
       "      <th></th>\n",
       "      <th>0</th>\n",
       "      <th>00</th>\n",
       "      <th>000</th>\n",
       "      <th>00128</th>\n",
       "      <th>002</th>\n",
       "      <th>00s</th>\n",
       "      <th>01</th>\n",
       "      <th>017</th>\n",
       "      <th>022</th>\n",
       "      <th>024b</th>\n",
       "      <th>...</th>\n",
       "      <th>zips</th>\n",
       "      <th>zl</th>\n",
       "      <th>zone</th>\n",
       "      <th>zoning</th>\n",
       "      <th>zoom</th>\n",
       "      <th>zte</th>\n",
       "      <th>ztpad</th>\n",
       "      <th>zumo</th>\n",
       "      <th>zune</th>\n",
       "      <th>zunehd</th>\n",
       "    </tr>\n",
       "  </thead>\n",
       "  <tbody>\n",
       "    <tr>\n",
       "      <th>0</th>\n",
       "      <td>0</td>\n",
       "      <td>0</td>\n",
       "      <td>0</td>\n",
       "      <td>0</td>\n",
       "      <td>0</td>\n",
       "      <td>0</td>\n",
       "      <td>0</td>\n",
       "      <td>0</td>\n",
       "      <td>0</td>\n",
       "      <td>0</td>\n",
       "      <td>...</td>\n",
       "      <td>0</td>\n",
       "      <td>0</td>\n",
       "      <td>0</td>\n",
       "      <td>0</td>\n",
       "      <td>0</td>\n",
       "      <td>0</td>\n",
       "      <td>0</td>\n",
       "      <td>0</td>\n",
       "      <td>0</td>\n",
       "      <td>0</td>\n",
       "    </tr>\n",
       "    <tr>\n",
       "      <th>1</th>\n",
       "      <td>0</td>\n",
       "      <td>0</td>\n",
       "      <td>0</td>\n",
       "      <td>0</td>\n",
       "      <td>0</td>\n",
       "      <td>0</td>\n",
       "      <td>0</td>\n",
       "      <td>0</td>\n",
       "      <td>0</td>\n",
       "      <td>0</td>\n",
       "      <td>...</td>\n",
       "      <td>0</td>\n",
       "      <td>0</td>\n",
       "      <td>0</td>\n",
       "      <td>0</td>\n",
       "      <td>0</td>\n",
       "      <td>0</td>\n",
       "      <td>0</td>\n",
       "      <td>0</td>\n",
       "      <td>0</td>\n",
       "      <td>0</td>\n",
       "    </tr>\n",
       "    <tr>\n",
       "      <th>2</th>\n",
       "      <td>0</td>\n",
       "      <td>0</td>\n",
       "      <td>0</td>\n",
       "      <td>0</td>\n",
       "      <td>0</td>\n",
       "      <td>0</td>\n",
       "      <td>0</td>\n",
       "      <td>0</td>\n",
       "      <td>0</td>\n",
       "      <td>0</td>\n",
       "      <td>...</td>\n",
       "      <td>0</td>\n",
       "      <td>0</td>\n",
       "      <td>0</td>\n",
       "      <td>0</td>\n",
       "      <td>0</td>\n",
       "      <td>0</td>\n",
       "      <td>0</td>\n",
       "      <td>0</td>\n",
       "      <td>0</td>\n",
       "      <td>0</td>\n",
       "    </tr>\n",
       "    <tr>\n",
       "      <th>3</th>\n",
       "      <td>0</td>\n",
       "      <td>0</td>\n",
       "      <td>0</td>\n",
       "      <td>0</td>\n",
       "      <td>0</td>\n",
       "      <td>0</td>\n",
       "      <td>0</td>\n",
       "      <td>0</td>\n",
       "      <td>0</td>\n",
       "      <td>0</td>\n",
       "      <td>...</td>\n",
       "      <td>0</td>\n",
       "      <td>0</td>\n",
       "      <td>0</td>\n",
       "      <td>0</td>\n",
       "      <td>0</td>\n",
       "      <td>0</td>\n",
       "      <td>0</td>\n",
       "      <td>0</td>\n",
       "      <td>0</td>\n",
       "      <td>0</td>\n",
       "    </tr>\n",
       "    <tr>\n",
       "      <th>4</th>\n",
       "      <td>0</td>\n",
       "      <td>0</td>\n",
       "      <td>0</td>\n",
       "      <td>0</td>\n",
       "      <td>0</td>\n",
       "      <td>0</td>\n",
       "      <td>0</td>\n",
       "      <td>0</td>\n",
       "      <td>0</td>\n",
       "      <td>0</td>\n",
       "      <td>...</td>\n",
       "      <td>0</td>\n",
       "      <td>0</td>\n",
       "      <td>0</td>\n",
       "      <td>0</td>\n",
       "      <td>0</td>\n",
       "      <td>0</td>\n",
       "      <td>0</td>\n",
       "      <td>0</td>\n",
       "      <td>0</td>\n",
       "      <td>0</td>\n",
       "    </tr>\n",
       "  </tbody>\n",
       "</table>\n",
       "<p>5 rows × 8068 columns</p>\n",
       "</div>"
      ],
      "text/plain": [
       "   0  00  000  00128  002  00s  01  017  022  024b  ...  zips  zl  zone  \\\n",
       "0  0   0    0      0    0    0   0    0    0     0  ...     0   0     0   \n",
       "1  0   0    0      0    0    0   0    0    0     0  ...     0   0     0   \n",
       "2  0   0    0      0    0    0   0    0    0     0  ...     0   0     0   \n",
       "3  0   0    0      0    0    0   0    0    0     0  ...     0   0     0   \n",
       "4  0   0    0      0    0    0   0    0    0     0  ...     0   0     0   \n",
       "\n",
       "   zoning  zoom  zte  ztpad  zumo  zune  zunehd  \n",
       "0       0     0    0      0     0     0       0  \n",
       "1       0     0    0      0     0     0       0  \n",
       "2       0     0    0      0     0     0       0  \n",
       "3       0     0    0      0     0     0       0  \n",
       "4       0     0    0      0     0     0       0  \n",
       "\n",
       "[5 rows x 8068 columns]"
      ]
     },
     "execution_count": 16,
     "metadata": {},
     "output_type": "execute_result"
    }
   ],
   "source": [
    "# A sparse matrix is created by CountVectorizor. We are using only unigrams. All stopwords are deleted.\n",
    "count_array = text_counts.toarray()\n",
    "df = pd.DataFrame(data=count_array,columns = cv.get_feature_names())\n",
    "df.head()"
   ]
  },
  {
   "cell_type": "code",
   "execution_count": 17,
   "id": "3cb6ebad",
   "metadata": {
    "execution": {
     "iopub.execute_input": "2023-03-20T19:08:02.286811Z",
     "iopub.status.busy": "2023-03-20T19:08:02.286419Z",
     "iopub.status.idle": "2023-03-20T19:08:02.295275Z",
     "shell.execute_reply": "2023-03-20T19:08:02.294220Z"
    },
    "papermill": {
     "duration": 0.02242,
     "end_time": "2023-03-20T19:08:02.297350",
     "exception": false,
     "start_time": "2023-03-20T19:08:02.274930",
     "status": "completed"
    },
    "tags": []
   },
   "outputs": [],
   "source": [
    "#Train test split\n",
    "from sklearn.model_selection import train_test_split\n",
    "X_train,X_test, Y_train, Y_test = train_test_split(text_counts,data['review_sentiment'], test_size =0.25, random_state=5)"
   ]
  },
  {
   "cell_type": "code",
   "execution_count": 18,
   "id": "c83576b1",
   "metadata": {
    "execution": {
     "iopub.execute_input": "2023-03-20T19:08:02.319110Z",
     "iopub.status.busy": "2023-03-20T19:08:02.318392Z",
     "iopub.status.idle": "2023-03-20T19:08:02.324373Z",
     "shell.execute_reply": "2023-03-20T19:08:02.323282Z"
    },
    "papermill": {
     "duration": 0.019443,
     "end_time": "2023-03-20T19:08:02.326733",
     "exception": false,
     "start_time": "2023-03-20T19:08:02.307290",
     "status": "completed"
    },
    "tags": []
   },
   "outputs": [],
   "source": [
    "Y_test_coded = []\n",
    "for i in Y_test:\n",
    "    if i==\"Positive\":\n",
    "        Y_test_coded.append(1)\n",
    "    else:\n",
    "        Y_test_coded.append(0)"
   ]
  },
  {
   "cell_type": "code",
   "execution_count": 19,
   "id": "6e0f89b5",
   "metadata": {
    "execution": {
     "iopub.execute_input": "2023-03-20T19:08:02.348777Z",
     "iopub.status.busy": "2023-03-20T19:08:02.348208Z",
     "iopub.status.idle": "2023-03-20T19:08:02.369018Z",
     "shell.execute_reply": "2023-03-20T19:08:02.368072Z"
    },
    "papermill": {
     "duration": 0.033977,
     "end_time": "2023-03-20T19:08:02.371109",
     "exception": false,
     "start_time": "2023-03-20T19:08:02.337132",
     "status": "completed"
    },
    "tags": []
   },
   "outputs": [
    {
     "data": {
      "text/plain": [
       "MultinomialNB()"
      ]
     },
     "execution_count": 19,
     "metadata": {},
     "output_type": "execute_result"
    }
   ],
   "source": [
    "# Build a Multinomial naive bayes classifier\n",
    "from sklearn.naive_bayes import MultinomialNB\n",
    "NB_classifier = MultinomialNB()\n",
    "NB_classifier.fit(X_train,Y_train)"
   ]
  },
  {
   "cell_type": "code",
   "execution_count": 20,
   "id": "33178ebc",
   "metadata": {
    "execution": {
     "iopub.execute_input": "2023-03-20T19:08:02.394378Z",
     "iopub.status.busy": "2023-03-20T19:08:02.393607Z",
     "iopub.status.idle": "2023-03-20T19:08:02.441109Z",
     "shell.execute_reply": "2023-03-20T19:08:02.439973Z"
    },
    "papermill": {
     "duration": 0.061353,
     "end_time": "2023-03-20T19:08:02.443253",
     "exception": false,
     "start_time": "2023-03-20T19:08:02.381900",
     "status": "completed"
    },
    "tags": []
   },
   "outputs": [
    {
     "name": "stdout",
     "output_type": "stream",
     "text": [
      "Confusion Matrix\n",
      "[[  51   28]\n",
      " [  21 1093]]\n",
      "\n",
      "Classification Report\n",
      "              precision    recall  f1-score   support\n",
      "\n",
      "    Negative       0.71      0.65      0.68        79\n",
      "    Positive       0.98      0.98      0.98      1114\n",
      "\n",
      "    accuracy                           0.96      1193\n",
      "   macro avg       0.84      0.81      0.83      1193\n",
      "weighted avg       0.96      0.96      0.96      1193\n",
      "\n",
      "MNB Classifier Accuracy of the model: 95.89%\n"
     ]
    }
   ],
   "source": [
    "#Model Evaluation\n",
    "from sklearn import metrics\n",
    "from sklearn.metrics import confusion_matrix, accuracy_score, classification_report\n",
    "\n",
    "print(\"Confusion Matrix\")\n",
    "matrix = confusion_matrix(Y_test, NB_classifier.predict(X_test))\n",
    "print(matrix)\n",
    "\n",
    "# Classification Report\n",
    "print(\"\\nClassification Report\")\n",
    "report = classification_report(Y_test, NB_classifier.predict(X_test))\n",
    "print(report)\n",
    "\n",
    "# Accuracy of the model\n",
    "accuracy = accuracy_score(Y_test, NB_classifier.predict(X_test))\n",
    "print('MNB Classifier Accuracy of the model: {:.2f}%'.format(accuracy*100))"
   ]
  },
  {
   "cell_type": "code",
   "execution_count": 21,
   "id": "f694304f",
   "metadata": {
    "execution": {
     "iopub.execute_input": "2023-03-20T19:08:02.465766Z",
     "iopub.status.busy": "2023-03-20T19:08:02.464846Z",
     "iopub.status.idle": "2023-03-20T19:08:03.728478Z",
     "shell.execute_reply": "2023-03-20T19:08:03.726910Z"
    },
    "papermill": {
     "duration": 1.277607,
     "end_time": "2023-03-20T19:08:03.731475",
     "exception": false,
     "start_time": "2023-03-20T19:08:02.453868",
     "status": "completed"
    },
    "tags": []
   },
   "outputs": [
    {
     "name": "stderr",
     "output_type": "stream",
     "text": [
      "/opt/conda/lib/python3.7/site-packages/sklearn/utils/validation.py:598: FutureWarning: np.matrix usage is deprecated in 1.0 and will raise a TypeError in 1.2. Please convert to a numpy array with np.asarray. For more information see: https://numpy.org/doc/stable/reference/generated/numpy.matrix.html\n",
      "  FutureWarning,\n"
     ]
    },
    {
     "name": "stdout",
     "output_type": "stream",
     "text": [
      "Confusion Matrix\n",
      "[[ 24  55]\n",
      " [304 810]]\n",
      "\n",
      "Classification Report\n"
     ]
    },
    {
     "name": "stderr",
     "output_type": "stream",
     "text": [
      "/opt/conda/lib/python3.7/site-packages/sklearn/utils/validation.py:598: FutureWarning: np.matrix usage is deprecated in 1.0 and will raise a TypeError in 1.2. Please convert to a numpy array with np.asarray. For more information see: https://numpy.org/doc/stable/reference/generated/numpy.matrix.html\n",
      "  FutureWarning,\n",
      "/opt/conda/lib/python3.7/site-packages/sklearn/utils/validation.py:598: FutureWarning: np.matrix usage is deprecated in 1.0 and will raise a TypeError in 1.2. Please convert to a numpy array with np.asarray. For more information see: https://numpy.org/doc/stable/reference/generated/numpy.matrix.html\n",
      "  FutureWarning,\n"
     ]
    },
    {
     "name": "stdout",
     "output_type": "stream",
     "text": [
      "              precision    recall  f1-score   support\n",
      "\n",
      "    Negative       0.07      0.30      0.12        79\n",
      "    Positive       0.94      0.73      0.82      1114\n",
      "\n",
      "    accuracy                           0.70      1193\n",
      "   macro avg       0.50      0.52      0.47      1193\n",
      "weighted avg       0.88      0.70      0.77      1193\n",
      "\n",
      "GNB Classifier Accuracy of the model: 69.91%\n"
     ]
    },
    {
     "name": "stderr",
     "output_type": "stream",
     "text": [
      "/opt/conda/lib/python3.7/site-packages/sklearn/utils/validation.py:598: FutureWarning: np.matrix usage is deprecated in 1.0 and will raise a TypeError in 1.2. Please convert to a numpy array with np.asarray. For more information see: https://numpy.org/doc/stable/reference/generated/numpy.matrix.html\n",
      "  FutureWarning,\n"
     ]
    }
   ],
   "source": [
    "# Build a Gaussian naive bayes classifier\n",
    "from sklearn.naive_bayes import GaussianNB\n",
    "GNB_classifier = GaussianNB()\n",
    "GNB_classifier.fit(X_train.todense(),Y_train)\n",
    "\n",
    "#Model Evaluation\n",
    "print(\"Confusion Matrix\")\n",
    "matrix = confusion_matrix(Y_test, GNB_classifier.predict(X_test.todense()))\n",
    "print(matrix)\n",
    "\n",
    "# Classification Report\n",
    "print(\"\\nClassification Report\")\n",
    "report = classification_report(Y_test, GNB_classifier.predict(X_test.todense()))\n",
    "print(report)\n",
    "\n",
    "# Accuracy of the model\n",
    "accuracy = accuracy_score(Y_test, GNB_classifier.predict(X_test.todense()))\n",
    "print('GNB Classifier Accuracy of the model: {:.2f}%'.format(accuracy*100))"
   ]
  },
  {
   "cell_type": "code",
   "execution_count": 22,
   "id": "8480afb2",
   "metadata": {
    "execution": {
     "iopub.execute_input": "2023-03-20T19:08:03.754704Z",
     "iopub.status.busy": "2023-03-20T19:08:03.754317Z",
     "iopub.status.idle": "2023-03-20T19:08:04.180366Z",
     "shell.execute_reply": "2023-03-20T19:08:04.178917Z"
    },
    "papermill": {
     "duration": 0.440547,
     "end_time": "2023-03-20T19:08:04.183136",
     "exception": false,
     "start_time": "2023-03-20T19:08:03.742589",
     "status": "completed"
    },
    "tags": []
   },
   "outputs": [
    {
     "name": "stdout",
     "output_type": "stream",
     "text": [
      "Confusion Matrix\n",
      "[[  62   17]\n",
      " [  43 1071]]\n",
      "\n",
      "Classification Report\n"
     ]
    },
    {
     "name": "stderr",
     "output_type": "stream",
     "text": [
      "/opt/conda/lib/python3.7/site-packages/sklearn/utils/validation.py:598: FutureWarning: np.matrix usage is deprecated in 1.0 and will raise a TypeError in 1.2. Please convert to a numpy array with np.asarray. For more information see: https://numpy.org/doc/stable/reference/generated/numpy.matrix.html\n",
      "  FutureWarning,\n"
     ]
    },
    {
     "name": "stdout",
     "output_type": "stream",
     "text": [
      "              precision    recall  f1-score   support\n",
      "\n",
      "    Negative       0.07      0.30      0.12        79\n",
      "    Positive       0.94      0.73      0.82      1114\n",
      "\n",
      "    accuracy                           0.70      1193\n",
      "   macro avg       0.50      0.52      0.47      1193\n",
      "weighted avg       0.88      0.70      0.77      1193\n",
      "\n",
      "CNB Classifier Accuracy of the model: 69.91%\n"
     ]
    },
    {
     "name": "stderr",
     "output_type": "stream",
     "text": [
      "/opt/conda/lib/python3.7/site-packages/sklearn/utils/validation.py:598: FutureWarning: np.matrix usage is deprecated in 1.0 and will raise a TypeError in 1.2. Please convert to a numpy array with np.asarray. For more information see: https://numpy.org/doc/stable/reference/generated/numpy.matrix.html\n",
      "  FutureWarning,\n"
     ]
    }
   ],
   "source": [
    "# Build a Complement naive bayes classifier\n",
    "from sklearn.naive_bayes import ComplementNB\n",
    "CNB_classifier = ComplementNB()\n",
    "CNB_classifier.fit(X_train,Y_train)\n",
    "\n",
    "#Model Evaluation\n",
    "print(\"Confusion Matrix\")\n",
    "matrix = confusion_matrix(Y_test, CNB_classifier.predict(X_test))\n",
    "print(matrix)\n",
    "\n",
    "# Classification Report\n",
    "print(\"\\nClassification Report\")\n",
    "report = classification_report(Y_test, GNB_classifier.predict(X_test.todense()))\n",
    "print(report)\n",
    "\n",
    "# Accuracy of the model\n",
    "accuracy = accuracy_score(Y_test, GNB_classifier.predict(X_test.todense()))\n",
    "print('CNB Classifier Accuracy of the model: {:.2f}%'.format(accuracy*100))"
   ]
  },
  {
   "cell_type": "code",
   "execution_count": 23,
   "id": "e2288e54",
   "metadata": {
    "execution": {
     "iopub.execute_input": "2023-03-20T19:08:04.206365Z",
     "iopub.status.busy": "2023-03-20T19:08:04.205956Z",
     "iopub.status.idle": "2023-03-20T19:08:04.211689Z",
     "shell.execute_reply": "2023-03-20T19:08:04.210722Z"
    },
    "papermill": {
     "duration": 0.019635,
     "end_time": "2023-03-20T19:08:04.213691",
     "exception": false,
     "start_time": "2023-03-20T19:08:04.194056",
     "status": "completed"
    },
    "tags": []
   },
   "outputs": [],
   "source": [
    "#Other classifiers\n",
    "from sklearn.linear_model import LogisticRegression, SGDClassifier\n",
    "from sklearn.svm import LinearSVC\n",
    "LogReg = LogisticRegression()\n",
    "SGDClassifier = SGDClassifier()\n",
    "LSVClassifier = LinearSVC()"
   ]
  },
  {
   "cell_type": "code",
   "execution_count": 24,
   "id": "5cf95225",
   "metadata": {
    "execution": {
     "iopub.execute_input": "2023-03-20T19:08:04.236092Z",
     "iopub.status.busy": "2023-03-20T19:08:04.235770Z",
     "iopub.status.idle": "2023-03-20T19:08:04.410689Z",
     "shell.execute_reply": "2023-03-20T19:08:04.409251Z"
    },
    "papermill": {
     "duration": 0.188411,
     "end_time": "2023-03-20T19:08:04.412897",
     "exception": false,
     "start_time": "2023-03-20T19:08:04.224486",
     "status": "completed"
    },
    "tags": []
   },
   "outputs": [
    {
     "name": "stdout",
     "output_type": "stream",
     "text": [
      "Confusion Matrix\n",
      "[[  40   39]\n",
      " [   5 1109]]\n",
      "\n",
      "Classification Report\n",
      "              precision    recall  f1-score   support\n",
      "\n",
      "    Negative       0.89      0.51      0.65        79\n",
      "    Positive       0.97      1.00      0.98      1114\n",
      "\n",
      "    accuracy                           0.96      1193\n",
      "   macro avg       0.93      0.75      0.81      1193\n",
      "weighted avg       0.96      0.96      0.96      1193\n",
      "\n",
      "LogReg Classifier Accuracy of the model: 96.31%\n"
     ]
    }
   ],
   "source": [
    "LogReg.fit(X_train,Y_train)\n",
    "accuracy_score_lr = metrics.accuracy_score(LogReg.predict(X_test),Y_test)\n",
    "#Model Evaluation\n",
    "print(\"Confusion Matrix\")\n",
    "matrix = confusion_matrix(Y_test, LogReg.predict(X_test))\n",
    "print(matrix)\n",
    "\n",
    "# Classification Report\n",
    "print(\"\\nClassification Report\")\n",
    "report = classification_report(Y_test, LogReg.predict(X_test))\n",
    "print(report)\n",
    "\n",
    "# Accuracy of the model\n",
    "accuracy = accuracy_score(Y_test, LogReg.predict(X_test))\n",
    "print('LogReg Classifier Accuracy of the model: {:.2f}%'.format(accuracy*100))"
   ]
  },
  {
   "cell_type": "code",
   "execution_count": 25,
   "id": "19bb47d3",
   "metadata": {
    "execution": {
     "iopub.execute_input": "2023-03-20T19:08:04.436104Z",
     "iopub.status.busy": "2023-03-20T19:08:04.435381Z",
     "iopub.status.idle": "2023-03-20T19:08:04.489173Z",
     "shell.execute_reply": "2023-03-20T19:08:04.488264Z"
    },
    "papermill": {
     "duration": 0.068081,
     "end_time": "2023-03-20T19:08:04.491434",
     "exception": false,
     "start_time": "2023-03-20T19:08:04.423353",
     "status": "completed"
    },
    "tags": []
   },
   "outputs": [
    {
     "name": "stdout",
     "output_type": "stream",
     "text": [
      "Confusion Matrix\n",
      "[[  49   30]\n",
      " [  27 1087]]\n",
      "\n",
      "Classification Report\n",
      "              precision    recall  f1-score   support\n",
      "\n",
      "    Negative       0.64      0.62      0.63        79\n",
      "    Positive       0.97      0.98      0.97      1114\n",
      "\n",
      "    accuracy                           0.95      1193\n",
      "   macro avg       0.81      0.80      0.80      1193\n",
      "weighted avg       0.95      0.95      0.95      1193\n",
      "\n",
      "SGD Classifier Accuracy of the model: 95.22%\n"
     ]
    }
   ],
   "source": [
    "SGDClassifier.fit(X_train,Y_train)\n",
    "\n",
    "#Model Evaluation\n",
    "print(\"Confusion Matrix\")\n",
    "matrix = confusion_matrix(Y_test, SGDClassifier.predict(X_test))\n",
    "print(matrix)\n",
    "\n",
    "# Classification Report\n",
    "print(\"\\nClassification Report\")\n",
    "report = classification_report(Y_test, SGDClassifier.predict(X_test))\n",
    "print(report)\n",
    "\n",
    "# Accuracy of the model\n",
    "accuracy = accuracy_score(Y_test, SGDClassifier.predict(X_test))\n",
    "print('SGD Classifier Accuracy of the model: {:.2f}%'.format(accuracy*100))"
   ]
  },
  {
   "cell_type": "code",
   "execution_count": 26,
   "id": "89ac3a79",
   "metadata": {
    "execution": {
     "iopub.execute_input": "2023-03-20T19:08:04.513707Z",
     "iopub.status.busy": "2023-03-20T19:08:04.512955Z",
     "iopub.status.idle": "2023-03-20T19:08:04.580246Z",
     "shell.execute_reply": "2023-03-20T19:08:04.579257Z"
    },
    "papermill": {
     "duration": 0.080353,
     "end_time": "2023-03-20T19:08:04.582486",
     "exception": false,
     "start_time": "2023-03-20T19:08:04.502133",
     "status": "completed"
    },
    "tags": []
   },
   "outputs": [
    {
     "name": "stdout",
     "output_type": "stream",
     "text": [
      "Confusion Matrix\n",
      "[[  45   34]\n",
      " [  10 1104]]\n",
      "\n",
      "Classification Report\n",
      "              precision    recall  f1-score   support\n",
      "\n",
      "    Negative       0.82      0.57      0.67        79\n",
      "    Positive       0.97      0.99      0.98      1114\n",
      "\n",
      "    accuracy                           0.96      1193\n",
      "   macro avg       0.89      0.78      0.83      1193\n",
      "weighted avg       0.96      0.96      0.96      1193\n",
      "\n",
      "LSV Classifier Accuracy of the model: 96.31%\n"
     ]
    }
   ],
   "source": [
    "LSVClassifier.fit(X_train,Y_train)\n",
    "\n",
    "#Model Evaluation\n",
    "print(\"Confusion Matrix\")\n",
    "matrix = confusion_matrix(Y_test, LSVClassifier.predict(X_test))\n",
    "print(matrix)\n",
    "\n",
    "# Classification Report\n",
    "print(\"\\nClassification Report\")\n",
    "report = classification_report(Y_test, LSVClassifier.predict(X_test))\n",
    "print(report)\n",
    "\n",
    "# Accuracy of the model\n",
    "accuracy = accuracy_score(Y_test, LSVClassifier.predict(X_test))\n",
    "print('LSV Classifier Accuracy of the model: {:.2f}%'.format(accuracy*100))\n"
   ]
  },
  {
   "cell_type": "code",
   "execution_count": 27,
   "id": "1da18879",
   "metadata": {
    "execution": {
     "iopub.execute_input": "2023-03-20T19:08:04.605581Z",
     "iopub.status.busy": "2023-03-20T19:08:04.604653Z",
     "iopub.status.idle": "2023-03-20T19:08:04.802900Z",
     "shell.execute_reply": "2023-03-20T19:08:04.801581Z"
    },
    "papermill": {
     "duration": 0.212375,
     "end_time": "2023-03-20T19:08:04.805591",
     "exception": false,
     "start_time": "2023-03-20T19:08:04.593216",
     "status": "completed"
    },
    "tags": []
   },
   "outputs": [
    {
     "data": {
      "text/plain": [
       "<4771x8316 sparse matrix of type '<class 'numpy.float64'>'\n",
       "\twith 173679 stored elements in Compressed Sparse Row format>"
      ]
     },
     "execution_count": 27,
     "metadata": {},
     "output_type": "execute_result"
    }
   ],
   "source": [
    "#Using TF-IDF vectorizer\n",
    "from sklearn.feature_extraction.text import TfidfVectorizer\n",
    "tfidf = TfidfVectorizer()\n",
    "text_counts_tfidf = tfidf.fit_transform(data['reviewText'])\n",
    "text_counts_tfidf"
   ]
  },
  {
   "cell_type": "code",
   "execution_count": 28,
   "id": "4dc08596",
   "metadata": {
    "execution": {
     "iopub.execute_input": "2023-03-20T19:08:04.831127Z",
     "iopub.status.busy": "2023-03-20T19:08:04.830410Z",
     "iopub.status.idle": "2023-03-20T19:08:05.201913Z",
     "shell.execute_reply": "2023-03-20T19:08:05.201055Z"
    },
    "papermill": {
     "duration": 0.389141,
     "end_time": "2023-03-20T19:08:05.206607",
     "exception": false,
     "start_time": "2023-03-20T19:08:04.817466",
     "status": "completed"
    },
    "tags": []
   },
   "outputs": [
    {
     "name": "stderr",
     "output_type": "stream",
     "text": [
      "/opt/conda/lib/python3.7/site-packages/sklearn/utils/deprecation.py:87: FutureWarning: Function get_feature_names is deprecated; get_feature_names is deprecated in 1.0 and will be removed in 1.2. Please use get_feature_names_out instead.\n",
      "  warnings.warn(msg, category=FutureWarning)\n"
     ]
    },
    {
     "data": {
      "text/html": [
       "<div>\n",
       "<style scoped>\n",
       "    .dataframe tbody tr th:only-of-type {\n",
       "        vertical-align: middle;\n",
       "    }\n",
       "\n",
       "    .dataframe tbody tr th {\n",
       "        vertical-align: top;\n",
       "    }\n",
       "\n",
       "    .dataframe thead th {\n",
       "        text-align: right;\n",
       "    }\n",
       "</style>\n",
       "<table border=\"1\" class=\"dataframe\">\n",
       "  <thead>\n",
       "    <tr style=\"text-align: right;\">\n",
       "      <th></th>\n",
       "      <th>00</th>\n",
       "      <th>000</th>\n",
       "      <th>00128</th>\n",
       "      <th>002</th>\n",
       "      <th>00s</th>\n",
       "      <th>01</th>\n",
       "      <th>017</th>\n",
       "      <th>022</th>\n",
       "      <th>024b</th>\n",
       "      <th>03</th>\n",
       "      <th>...</th>\n",
       "      <th>zips</th>\n",
       "      <th>zl</th>\n",
       "      <th>zone</th>\n",
       "      <th>zoning</th>\n",
       "      <th>zoom</th>\n",
       "      <th>zte</th>\n",
       "      <th>ztpad</th>\n",
       "      <th>zumo</th>\n",
       "      <th>zune</th>\n",
       "      <th>zunehd</th>\n",
       "    </tr>\n",
       "  </thead>\n",
       "  <tbody>\n",
       "    <tr>\n",
       "      <th>0</th>\n",
       "      <td>0.0</td>\n",
       "      <td>0.0</td>\n",
       "      <td>0.0</td>\n",
       "      <td>0.0</td>\n",
       "      <td>0.0</td>\n",
       "      <td>0.0</td>\n",
       "      <td>0.0</td>\n",
       "      <td>0.0</td>\n",
       "      <td>0.0</td>\n",
       "      <td>0.0</td>\n",
       "      <td>...</td>\n",
       "      <td>0.0</td>\n",
       "      <td>0.0</td>\n",
       "      <td>0.0</td>\n",
       "      <td>0.0</td>\n",
       "      <td>0.0</td>\n",
       "      <td>0.0</td>\n",
       "      <td>0.0</td>\n",
       "      <td>0.0</td>\n",
       "      <td>0.0</td>\n",
       "      <td>0.0</td>\n",
       "    </tr>\n",
       "    <tr>\n",
       "      <th>1</th>\n",
       "      <td>0.0</td>\n",
       "      <td>0.0</td>\n",
       "      <td>0.0</td>\n",
       "      <td>0.0</td>\n",
       "      <td>0.0</td>\n",
       "      <td>0.0</td>\n",
       "      <td>0.0</td>\n",
       "      <td>0.0</td>\n",
       "      <td>0.0</td>\n",
       "      <td>0.0</td>\n",
       "      <td>...</td>\n",
       "      <td>0.0</td>\n",
       "      <td>0.0</td>\n",
       "      <td>0.0</td>\n",
       "      <td>0.0</td>\n",
       "      <td>0.0</td>\n",
       "      <td>0.0</td>\n",
       "      <td>0.0</td>\n",
       "      <td>0.0</td>\n",
       "      <td>0.0</td>\n",
       "      <td>0.0</td>\n",
       "    </tr>\n",
       "    <tr>\n",
       "      <th>2</th>\n",
       "      <td>0.0</td>\n",
       "      <td>0.0</td>\n",
       "      <td>0.0</td>\n",
       "      <td>0.0</td>\n",
       "      <td>0.0</td>\n",
       "      <td>0.0</td>\n",
       "      <td>0.0</td>\n",
       "      <td>0.0</td>\n",
       "      <td>0.0</td>\n",
       "      <td>0.0</td>\n",
       "      <td>...</td>\n",
       "      <td>0.0</td>\n",
       "      <td>0.0</td>\n",
       "      <td>0.0</td>\n",
       "      <td>0.0</td>\n",
       "      <td>0.0</td>\n",
       "      <td>0.0</td>\n",
       "      <td>0.0</td>\n",
       "      <td>0.0</td>\n",
       "      <td>0.0</td>\n",
       "      <td>0.0</td>\n",
       "    </tr>\n",
       "    <tr>\n",
       "      <th>3</th>\n",
       "      <td>0.0</td>\n",
       "      <td>0.0</td>\n",
       "      <td>0.0</td>\n",
       "      <td>0.0</td>\n",
       "      <td>0.0</td>\n",
       "      <td>0.0</td>\n",
       "      <td>0.0</td>\n",
       "      <td>0.0</td>\n",
       "      <td>0.0</td>\n",
       "      <td>0.0</td>\n",
       "      <td>...</td>\n",
       "      <td>0.0</td>\n",
       "      <td>0.0</td>\n",
       "      <td>0.0</td>\n",
       "      <td>0.0</td>\n",
       "      <td>0.0</td>\n",
       "      <td>0.0</td>\n",
       "      <td>0.0</td>\n",
       "      <td>0.0</td>\n",
       "      <td>0.0</td>\n",
       "      <td>0.0</td>\n",
       "    </tr>\n",
       "    <tr>\n",
       "      <th>4</th>\n",
       "      <td>0.0</td>\n",
       "      <td>0.0</td>\n",
       "      <td>0.0</td>\n",
       "      <td>0.0</td>\n",
       "      <td>0.0</td>\n",
       "      <td>0.0</td>\n",
       "      <td>0.0</td>\n",
       "      <td>0.0</td>\n",
       "      <td>0.0</td>\n",
       "      <td>0.0</td>\n",
       "      <td>...</td>\n",
       "      <td>0.0</td>\n",
       "      <td>0.0</td>\n",
       "      <td>0.0</td>\n",
       "      <td>0.0</td>\n",
       "      <td>0.0</td>\n",
       "      <td>0.0</td>\n",
       "      <td>0.0</td>\n",
       "      <td>0.0</td>\n",
       "      <td>0.0</td>\n",
       "      <td>0.0</td>\n",
       "    </tr>\n",
       "  </tbody>\n",
       "</table>\n",
       "<p>5 rows × 8316 columns</p>\n",
       "</div>"
      ],
      "text/plain": [
       "    00  000  00128  002  00s   01  017  022  024b   03  ...  zips   zl  zone  \\\n",
       "0  0.0  0.0    0.0  0.0  0.0  0.0  0.0  0.0   0.0  0.0  ...   0.0  0.0   0.0   \n",
       "1  0.0  0.0    0.0  0.0  0.0  0.0  0.0  0.0   0.0  0.0  ...   0.0  0.0   0.0   \n",
       "2  0.0  0.0    0.0  0.0  0.0  0.0  0.0  0.0   0.0  0.0  ...   0.0  0.0   0.0   \n",
       "3  0.0  0.0    0.0  0.0  0.0  0.0  0.0  0.0   0.0  0.0  ...   0.0  0.0   0.0   \n",
       "4  0.0  0.0    0.0  0.0  0.0  0.0  0.0  0.0   0.0  0.0  ...   0.0  0.0   0.0   \n",
       "\n",
       "   zoning  zoom  zte  ztpad  zumo  zune  zunehd  \n",
       "0     0.0   0.0  0.0    0.0   0.0   0.0     0.0  \n",
       "1     0.0   0.0  0.0    0.0   0.0   0.0     0.0  \n",
       "2     0.0   0.0  0.0    0.0   0.0   0.0     0.0  \n",
       "3     0.0   0.0  0.0    0.0   0.0   0.0     0.0  \n",
       "4     0.0   0.0  0.0    0.0   0.0   0.0     0.0  \n",
       "\n",
       "[5 rows x 8316 columns]"
      ]
     },
     "execution_count": 28,
     "metadata": {},
     "output_type": "execute_result"
    }
   ],
   "source": [
    "count_array = text_counts_tfidf.toarray()\n",
    "df = pd.DataFrame(data=count_array,columns = tfidf.get_feature_names())\n",
    "df.head()"
   ]
  },
  {
   "cell_type": "code",
   "execution_count": 29,
   "id": "3a951976",
   "metadata": {
    "execution": {
     "iopub.execute_input": "2023-03-20T19:08:05.231699Z",
     "iopub.status.busy": "2023-03-20T19:08:05.231325Z",
     "iopub.status.idle": "2023-03-20T19:08:05.238668Z",
     "shell.execute_reply": "2023-03-20T19:08:05.237425Z"
    },
    "papermill": {
     "duration": 0.022989,
     "end_time": "2023-03-20T19:08:05.241254",
     "exception": false,
     "start_time": "2023-03-20T19:08:05.218265",
     "status": "completed"
    },
    "tags": []
   },
   "outputs": [],
   "source": [
    "X_train,X_test, Y_train, Y_test = train_test_split(text_counts_tfidf,data['review_sentiment'], test_size =0.25, random_state=5)"
   ]
  },
  {
   "cell_type": "code",
   "execution_count": 30,
   "id": "84f4fd03",
   "metadata": {
    "execution": {
     "iopub.execute_input": "2023-03-20T19:08:05.266733Z",
     "iopub.status.busy": "2023-03-20T19:08:05.265660Z",
     "iopub.status.idle": "2023-03-20T19:08:05.321881Z",
     "shell.execute_reply": "2023-03-20T19:08:05.320443Z"
    },
    "papermill": {
     "duration": 0.071405,
     "end_time": "2023-03-20T19:08:05.324092",
     "exception": false,
     "start_time": "2023-03-20T19:08:05.252687",
     "status": "completed"
    },
    "tags": []
   },
   "outputs": [
    {
     "name": "stdout",
     "output_type": "stream",
     "text": [
      "Confusion Matrix\n",
      "[[   0   79]\n",
      " [   3 1111]]\n",
      "\n",
      "Classification Report\n",
      "              precision    recall  f1-score   support\n",
      "\n",
      "    Negative       0.00      0.00      0.00        79\n",
      "    Positive       0.93      1.00      0.96      1114\n",
      "\n",
      "    accuracy                           0.93      1193\n",
      "   macro avg       0.47      0.50      0.48      1193\n",
      "weighted avg       0.87      0.93      0.90      1193\n",
      "\n",
      "MNB Classifier Accuracy of the model: 93.13%\n"
     ]
    }
   ],
   "source": [
    "NB_classifier.fit(X_train,Y_train)\n",
    "\n",
    "#Model Evaluation\n",
    "print(\"Confusion Matrix\")\n",
    "matrix = confusion_matrix(Y_test, NB_classifier.predict(X_test))\n",
    "print(matrix)\n",
    "\n",
    "# Classification Report\n",
    "print(\"\\nClassification Report\")\n",
    "report = classification_report(Y_test, NB_classifier.predict(X_test))\n",
    "print(report)\n",
    "\n",
    "# Accuracy of the model\n",
    "accuracy = accuracy_score(Y_test, NB_classifier.predict(X_test))\n",
    "print('MNB Classifier Accuracy of the model: {:.2f}%'.format(accuracy*100))\n"
   ]
  },
  {
   "cell_type": "code",
   "execution_count": 31,
   "id": "d8567f17",
   "metadata": {
    "execution": {
     "iopub.execute_input": "2023-03-20T19:08:05.349388Z",
     "iopub.status.busy": "2023-03-20T19:08:05.349018Z",
     "iopub.status.idle": "2023-03-20T19:08:06.958937Z",
     "shell.execute_reply": "2023-03-20T19:08:06.956357Z"
    },
    "papermill": {
     "duration": 1.625321,
     "end_time": "2023-03-20T19:08:06.961364",
     "exception": false,
     "start_time": "2023-03-20T19:08:05.336043",
     "status": "completed"
    },
    "tags": []
   },
   "outputs": [
    {
     "name": "stderr",
     "output_type": "stream",
     "text": [
      "/opt/conda/lib/python3.7/site-packages/sklearn/utils/validation.py:598: FutureWarning: np.matrix usage is deprecated in 1.0 and will raise a TypeError in 1.2. Please convert to a numpy array with np.asarray. For more information see: https://numpy.org/doc/stable/reference/generated/numpy.matrix.html\n",
      "  FutureWarning,\n",
      "/opt/conda/lib/python3.7/site-packages/sklearn/utils/validation.py:598: FutureWarning: np.matrix usage is deprecated in 1.0 and will raise a TypeError in 1.2. Please convert to a numpy array with np.asarray. For more information see: https://numpy.org/doc/stable/reference/generated/numpy.matrix.html\n",
      "  FutureWarning,\n"
     ]
    },
    {
     "name": "stdout",
     "output_type": "stream",
     "text": [
      "Confusion Matrix\n"
     ]
    },
    {
     "name": "stderr",
     "output_type": "stream",
     "text": [
      "/opt/conda/lib/python3.7/site-packages/sklearn/utils/validation.py:598: FutureWarning: np.matrix usage is deprecated in 1.0 and will raise a TypeError in 1.2. Please convert to a numpy array with np.asarray. For more information see: https://numpy.org/doc/stable/reference/generated/numpy.matrix.html\n",
      "  FutureWarning,\n"
     ]
    },
    {
     "name": "stdout",
     "output_type": "stream",
     "text": [
      "[[ 24  55]\n",
      " [281 833]]\n",
      "\n",
      "Classification Report\n"
     ]
    },
    {
     "name": "stderr",
     "output_type": "stream",
     "text": [
      "/opt/conda/lib/python3.7/site-packages/sklearn/utils/validation.py:598: FutureWarning: np.matrix usage is deprecated in 1.0 and will raise a TypeError in 1.2. Please convert to a numpy array with np.asarray. For more information see: https://numpy.org/doc/stable/reference/generated/numpy.matrix.html\n",
      "  FutureWarning,\n"
     ]
    },
    {
     "name": "stdout",
     "output_type": "stream",
     "text": [
      "              precision    recall  f1-score   support\n",
      "\n",
      "    Negative       0.08      0.30      0.12        79\n",
      "    Positive       0.94      0.75      0.83      1114\n",
      "\n",
      "    accuracy                           0.72      1193\n",
      "   macro avg       0.51      0.53      0.48      1193\n",
      "weighted avg       0.88      0.72      0.79      1193\n",
      "\n",
      "GNB Classifier Accuracy of the model: 71.84%\n"
     ]
    },
    {
     "name": "stderr",
     "output_type": "stream",
     "text": [
      "/opt/conda/lib/python3.7/site-packages/sklearn/utils/validation.py:598: FutureWarning: np.matrix usage is deprecated in 1.0 and will raise a TypeError in 1.2. Please convert to a numpy array with np.asarray. For more information see: https://numpy.org/doc/stable/reference/generated/numpy.matrix.html\n",
      "  FutureWarning,\n"
     ]
    }
   ],
   "source": [
    "GNB_classifier.fit(X_train.todense(),Y_train)\n",
    "accuracy_score_gnb = metrics.accuracy_score(GNB_classifier.predict(X_test.todense()),Y_test)\n",
    "\n",
    "#Model Evaluation\n",
    "print(\"Confusion Matrix\")\n",
    "matrix = confusion_matrix(Y_test, GNB_classifier.predict(X_test.todense()))\n",
    "print(matrix)\n",
    "\n",
    "# Classification Report\n",
    "print(\"\\nClassification Report\")\n",
    "report = classification_report(Y_test, GNB_classifier.predict(X_test.todense()))\n",
    "print(report)\n",
    "\n",
    "# Accuracy of the model\n",
    "accuracy = accuracy_score(Y_test, GNB_classifier.predict(X_test.todense()))\n",
    "print('GNB Classifier Accuracy of the model: {:.2f}%'.format(accuracy*100))"
   ]
  },
  {
   "cell_type": "code",
   "execution_count": 32,
   "id": "0a750117",
   "metadata": {
    "execution": {
     "iopub.execute_input": "2023-03-20T19:08:06.986988Z",
     "iopub.status.busy": "2023-03-20T19:08:06.986635Z",
     "iopub.status.idle": "2023-03-20T19:08:07.045070Z",
     "shell.execute_reply": "2023-03-20T19:08:07.043470Z"
    },
    "papermill": {
     "duration": 0.073881,
     "end_time": "2023-03-20T19:08:07.047587",
     "exception": false,
     "start_time": "2023-03-20T19:08:06.973706",
     "status": "completed"
    },
    "tags": []
   },
   "outputs": [
    {
     "name": "stdout",
     "output_type": "stream",
     "text": [
      "Confusion Matrix\n",
      "[[   1   78]\n",
      " [   6 1108]]\n",
      "\n",
      "Classification Report\n",
      "              precision    recall  f1-score   support\n",
      "\n",
      "    Negative       0.14      0.01      0.02        79\n",
      "    Positive       0.93      0.99      0.96      1114\n",
      "\n",
      "    accuracy                           0.93      1193\n",
      "   macro avg       0.54      0.50      0.49      1193\n",
      "weighted avg       0.88      0.93      0.90      1193\n",
      "\n",
      "CNB Classifier Accuracy of the model: 92.96%\n"
     ]
    }
   ],
   "source": [
    "CNB_classifier.fit(X_train,Y_train)\n",
    "accuracy_score_cnb = metrics.accuracy_score(CNB_classifier.predict(X_test),Y_test)\n",
    "\n",
    "#Model Evaluation\n",
    "print(\"Confusion Matrix\")\n",
    "matrix = confusion_matrix(Y_test, CNB_classifier.predict(X_test))\n",
    "print(matrix)\n",
    "\n",
    "# Classification Report\n",
    "print(\"\\nClassification Report\")\n",
    "report = classification_report(Y_test, CNB_classifier.predict(X_test))\n",
    "print(report)\n",
    "\n",
    "# Accuracy of the model\n",
    "accuracy = accuracy_score(Y_test, CNB_classifier.predict(X_test))\n",
    "print('CNB Classifier Accuracy of the model: {:.2f}%'.format(accuracy*100))"
   ]
  },
  {
   "cell_type": "code",
   "execution_count": 33,
   "id": "d3e1298d",
   "metadata": {
    "execution": {
     "iopub.execute_input": "2023-03-20T19:08:07.073149Z",
     "iopub.status.busy": "2023-03-20T19:08:07.072837Z",
     "iopub.status.idle": "2023-03-20T19:08:07.213902Z",
     "shell.execute_reply": "2023-03-20T19:08:07.212455Z"
    },
    "papermill": {
     "duration": 0.156558,
     "end_time": "2023-03-20T19:08:07.216004",
     "exception": false,
     "start_time": "2023-03-20T19:08:07.059446",
     "status": "completed"
    },
    "tags": []
   },
   "outputs": [
    {
     "name": "stdout",
     "output_type": "stream",
     "text": [
      "Confusion Matrix\n",
      "[[  10   69]\n",
      " [   0 1114]]\n",
      "\n",
      "Classification Report\n",
      "              precision    recall  f1-score   support\n",
      "\n",
      "    Negative       1.00      0.13      0.22        79\n",
      "    Positive       0.94      1.00      0.97      1114\n",
      "\n",
      "    accuracy                           0.94      1193\n",
      "   macro avg       0.97      0.56      0.60      1193\n",
      "weighted avg       0.95      0.94      0.92      1193\n",
      "\n",
      "LogReg Classifier Accuracy of the model: 94.22%\n"
     ]
    }
   ],
   "source": [
    "#Performed on tf-idf data\n",
    "LogReg.fit(X_train,Y_train)\n",
    "accuracy_score_lr = metrics.accuracy_score(LogReg.predict(X_test),Y_test)\n",
    "\n",
    "#Model Evaluation\n",
    "print(\"Confusion Matrix\")\n",
    "matrix = confusion_matrix(Y_test, LogReg.predict(X_test))\n",
    "print(matrix)\n",
    "\n",
    "# Classification Report\n",
    "print(\"\\nClassification Report\")\n",
    "report = classification_report(Y_test, LogReg.predict(X_test))\n",
    "print(report)\n",
    "\n",
    "# Accuracy of the model\n",
    "accuracy = accuracy_score(Y_test, LogReg.predict(X_test))\n",
    "print('LogReg Classifier Accuracy of the model: {:.2f}%'.format(accuracy*100))"
   ]
  },
  {
   "cell_type": "code",
   "execution_count": 34,
   "id": "6c600ffb",
   "metadata": {
    "execution": {
     "iopub.execute_input": "2023-03-20T19:08:07.243104Z",
     "iopub.status.busy": "2023-03-20T19:08:07.242781Z",
     "iopub.status.idle": "2023-03-20T19:08:07.298424Z",
     "shell.execute_reply": "2023-03-20T19:08:07.297363Z"
    },
    "papermill": {
     "duration": 0.070999,
     "end_time": "2023-03-20T19:08:07.300818",
     "exception": false,
     "start_time": "2023-03-20T19:08:07.229819",
     "status": "completed"
    },
    "tags": []
   },
   "outputs": [
    {
     "name": "stdout",
     "output_type": "stream",
     "text": [
      "Confusion Matrix\n",
      "[[  42   37]\n",
      " [   5 1109]]\n",
      "\n",
      "Classification Report\n",
      "              precision    recall  f1-score   support\n",
      "\n",
      "    Negative       0.89      0.53      0.67        79\n",
      "    Positive       0.97      1.00      0.98      1114\n",
      "\n",
      "    accuracy                           0.96      1193\n",
      "   macro avg       0.93      0.76      0.82      1193\n",
      "weighted avg       0.96      0.96      0.96      1193\n",
      "\n",
      "SDG Classifier Accuracy of the model: 96.48%\n"
     ]
    }
   ],
   "source": [
    "SGDClassifier.fit(X_train,Y_train)\n",
    "accuracy_score_sgd = metrics.accuracy_score(SGDClassifier.predict(X_test),Y_test)\n",
    "\n",
    "#Model Evaluation\n",
    "print(\"Confusion Matrix\")\n",
    "matrix = confusion_matrix(Y_test, SGDClassifier.predict(X_test))\n",
    "print(matrix)\n",
    "\n",
    "# Classification Report\n",
    "print(\"\\nClassification Report\")\n",
    "report = classification_report(Y_test, SGDClassifier.predict(X_test))\n",
    "print(report)\n",
    "\n",
    "# Accuracy of the model\n",
    "accuracy = accuracy_score(Y_test, SGDClassifier.predict(X_test))\n",
    "print('SDG Classifier Accuracy of the model: {:.2f}%'.format(accuracy*100))"
   ]
  },
  {
   "cell_type": "code",
   "execution_count": 35,
   "id": "8a16075b",
   "metadata": {
    "execution": {
     "iopub.execute_input": "2023-03-20T19:08:07.327575Z",
     "iopub.status.busy": "2023-03-20T19:08:07.327208Z",
     "iopub.status.idle": "2023-03-20T19:08:07.398090Z",
     "shell.execute_reply": "2023-03-20T19:08:07.396378Z"
    },
    "papermill": {
     "duration": 0.087902,
     "end_time": "2023-03-20T19:08:07.401320",
     "exception": false,
     "start_time": "2023-03-20T19:08:07.313418",
     "status": "completed"
    },
    "tags": []
   },
   "outputs": [
    {
     "name": "stdout",
     "output_type": "stream",
     "text": [
      "Confusion Matrix\n",
      "[[  38   41]\n",
      " [   2 1112]]\n",
      "\n",
      "Classification Report\n",
      "              precision    recall  f1-score   support\n",
      "\n",
      "    Negative       0.95      0.48      0.64        79\n",
      "    Positive       0.96      1.00      0.98      1114\n",
      "\n",
      "    accuracy                           0.96      1193\n",
      "   macro avg       0.96      0.74      0.81      1193\n",
      "weighted avg       0.96      0.96      0.96      1193\n",
      "\n",
      "LSV Classifier Accuracy of the model: 96.40%\n"
     ]
    }
   ],
   "source": [
    "LSVClassifier.fit(X_train,Y_train)\n",
    "accuracy_score_svc = metrics.accuracy_score(LSVClassifier.predict(X_test),Y_test)\n",
    "\n",
    "#Model Evaluation\n",
    "print(\"Confusion Matrix\")\n",
    "matrix = confusion_matrix(Y_test, LSVClassifier.predict(X_test))\n",
    "print(matrix)\n",
    "\n",
    "# Classification Report\n",
    "print(\"\\nClassification Report\")\n",
    "report = classification_report(Y_test, LSVClassifier.predict(X_test))\n",
    "print(report)\n",
    "\n",
    "# Accuracy of the model\n",
    "accuracy = accuracy_score(Y_test, LSVClassifier.predict(X_test))\n",
    "print('LSV Classifier Accuracy of the model: {:.2f}%'.format(accuracy*100))"
   ]
  }
 ],
 "metadata": {
  "kernelspec": {
   "display_name": "Python 3",
   "language": "python",
   "name": "python3"
  },
  "language_info": {
   "codemirror_mode": {
    "name": "ipython",
    "version": 3
   },
   "file_extension": ".py",
   "mimetype": "text/x-python",
   "name": "python",
   "nbconvert_exporter": "python",
   "pygments_lexer": "ipython3",
   "version": "3.7.12"
  },
  "papermill": {
   "default_parameters": {},
   "duration": 16.811596,
   "end_time": "2023-03-20T19:08:08.135571",
   "environment_variables": {},
   "exception": null,
   "input_path": "__notebook__.ipynb",
   "output_path": "__notebook__.ipynb",
   "parameters": {},
   "start_time": "2023-03-20T19:07:51.323975",
   "version": "2.3.4"
  }
 },
 "nbformat": 4,
 "nbformat_minor": 5
}
